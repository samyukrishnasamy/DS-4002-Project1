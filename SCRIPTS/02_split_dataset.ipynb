{
 "cells": [
  {
   "cell_type": "code",
   "execution_count": 4,
   "id": "047b41fa",
   "metadata": {},
   "outputs": [
    {
     "name": "stdout",
     "output_type": "stream",
     "text": [
      "Rows (total): 5572\n",
      "Label counts: {'ham': 4825, 'spam': 747}\n",
      "train: n=3900 | spam_ratio=0.1341\n",
      "val  : n=836   | spam_ratio=0.1340\n",
      "test : n=836  | spam_ratio=0.1340\n",
      "Wrote splits to: ../DATA/splits\n"
     ]
    }
   ],
   "source": [
    "from pathlib import Path\n",
    "import pandas as pd\n",
    "from sklearn.model_selection import train_test_split\n",
    "\n",
    "# Define paths\n",
    "clean_path = Path(\"../DATA/clean/sms_clean.csv\")\n",
    "splits_dir = Path(\"../DATA/splits\")\n",
    "splits_dir.mkdir(parents=True, exist_ok=True)\n",
    "\n",
    "# Load cleaned dataset\n",
    "df = pd.read_csv(clean_path)\n",
    "\n",
    "# Stratification target\n",
    "y = (df[\"Label\"].str.lower() == \"spam\").astype(int)\n",
    "\n",
    "# Split: 70% train, 15% val, 15% test\n",
    "train_df, temp_df = train_test_split(df, test_size=0.30, stratify=y, random_state=42)\n",
    "y_temp = (temp_df[\"Label\"].str.lower() == \"spam\").astype(int)\n",
    "val_df, test_df = train_test_split(temp_df, test_size=0.50, stratify=y_temp, random_state=42)\n",
    "\n",
    "# Save splits\n",
    "train_df.to_csv(splits_dir / \"train.csv\", index=False)\n",
    "val_df.to_csv(splits_dir / \"val.csv\", index=False)\n",
    "test_df.to_csv(splits_dir / \"test.csv\", index=False)\n",
    "\n",
    "# Quick sanity prints\n",
    "def ratio(d):\n",
    "    return float((d[\"Label\"].str.lower() == \"spam\").mean())\n",
    "\n",
    "print(\"Rows (total):\", len(df))\n",
    "print(\"Label counts:\", df[\"Label\"].value_counts().to_dict())\n",
    "print(f\"train: n={len(train_df)} | spam_ratio={ratio(train_df):.4f}\")\n",
    "print(f\"val  : n={len(val_df)}   | spam_ratio={ratio(val_df):.4f}\")\n",
    "print(f\"test : n={len(test_df)}  | spam_ratio={ratio(test_df):.4f}\")\n",
    "print(f\"Wrote splits to: {splits_dir}\")"
   ]
  }
 ],
 "metadata": {
  "kernelspec": {
   "display_name": ".venv",
   "language": "python",
   "name": "python3"
  },
  "language_info": {
   "codemirror_mode": {
    "name": "ipython",
    "version": 3
   },
   "file_extension": ".py",
   "mimetype": "text/x-python",
   "name": "python",
   "nbconvert_exporter": "python",
   "pygments_lexer": "ipython3",
   "version": "3.11.8"
  }
 },
 "nbformat": 4,
 "nbformat_minor": 5
}
