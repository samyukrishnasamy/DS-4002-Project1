{
 "cells": [
  {
   "cell_type": "markdown",
   "id": "c6d61146",
   "metadata": {},
   "source": [
    "Logistic Regression Classifier\n",
    "--------\n",
    "This script trains a Logistic Regression classifier for SMS spam detection.\n",
    "\n",
    "Pipeline steps:\n",
    "1. TF-IDF Vectorizer (unigrams + bigrams)\n",
    "   - Converts raw text messages into numerical features based on how important\n",
    "     each word/phrase is across the dataset.\n",
    "   - Includes both single words (e.g., \"free\") and pairs of words (e.g., \"free entry\").\n",
    "\n",
    "2. RandomOverSampler\n",
    "   - The dataset is imbalanced (many more ham than spam messages).\n",
    "   - Oversampling creates balanced training data by duplicating spam examples,\n",
    "     helping the model avoid bias toward predicting ham all the time.\n",
    "\n",
    "3. Logistic Regression\n",
    "   - A linear classifier that assigns weights to each TF-IDF feature.\n",
    "   - Features common in spam (like \"win prize\" or \"free entry\") get positive weights,\n",
    "     while features common in ham may get negative weights.\n",
    "\n",
    "4. Grid Search with 5-Fold Cross-Validation\n",
    "   - Instead of manually tuning hyperparameters, the script searches over:\n",
    "       * min_df (ignore words that appear too rarely)\n",
    "       * C (strength of regularization in Logistic Regression)\n",
    "   - Uses 5-fold CV on the training data, optimizing for F1 score (a balance\n",
    "     of precision and recall for the spam class).\n",
    "\n",
    "5. Validation Evaluation\n",
    "   - After training with the best parameters, the model is evaluated on the\n",
    "     validation split (15% of data not seen in training).\n",
    "   - Reports precision, recall, F1, and ROC-AUC.\n",
    "\n",
    "6. Saving Results\n",
    "   - The trained pipeline (TF-IDF + ROS + Logistic Regression) is saved to:\n",
    "       ../OUTPUT/logreg.joblib\n",
    "     This allows reusing the trained model later without retraining.\n",
    "   - A JSON report with best parameters and validation metrics is saved to:\n",
    "       ../OUTPUT/train_report.json"
   ]
  },
  {
   "cell_type": "code",
   "execution_count": 1,
   "id": "047b41fa",
   "metadata": {},
   "outputs": [],
   "source": [
    "#!/usr/bin/env python3\n",
    "# -*- coding: utf-8 -*-\n",
    "from pathlib import Path\n",
    "import json\n",
    "import pandas as pd\n",
    "import joblib\n",
    "\n",
    "from imblearn.pipeline import Pipeline\n",
    "from imblearn.over_sampling import RandomOverSampler\n",
    "from sklearn.feature_extraction.text import TfidfVectorizer\n",
    "from sklearn.linear_model import LogisticRegression\n",
    "from sklearn.model_selection import GridSearchCV\n",
    "from sklearn.metrics import precision_recall_fscore_support, roc_auc_score\n",
    "\n",
    "# Paths\n",
    "splits_dir = Path(\"../DATA/splits\")\n",
    "out_dir = Path(\"../OUTPUT/04_Training_Results\")\n",
    "out_dir.mkdir(parents=True, exist_ok=True)\n",
    "\n",
    "model_path = out_dir / \"logreg.joblib\"\n",
    "report_path = out_dir / \"train_report.json\""
   ]
  },
  {
   "cell_type": "code",
   "execution_count": 2,
   "id": "b601e808",
   "metadata": {},
   "outputs": [],
   "source": [
    "# Load data\n",
    "train = pd.read_csv(splits_dir / \"train.csv\")\n",
    "val = pd.read_csv(splits_dir / \"val.csv\")\n",
    "\n",
    "X_train = train[\"SMS_Message\"].tolist()\n",
    "y_train = (train[\"Label\"].str.lower() == \"spam\").astype(int).values\n",
    "\n",
    "X_val = val[\"SMS_Message\"].tolist()\n",
    "y_val = (val[\"Label\"].str.lower() == \"spam\").astype(int).values\n"
   ]
  },
  {
   "cell_type": "code",
   "execution_count": 3,
   "id": "7e799a4f",
   "metadata": {},
   "outputs": [],
   "source": [
    "# Pipeline: TF-IDF -> ROS -> Logistic Regression\n",
    "pipe = Pipeline([\n",
    "    (\"tfidf\", TfidfVectorizer(ngram_range=(1, 2), min_df=2)),\n",
    "    (\"ros\", RandomOverSampler(random_state=42)),\n",
    "    (\"clf\", LogisticRegression(max_iter=1000, random_state=42))\n",
    "])"
   ]
  },
  {
   "cell_type": "code",
   "execution_count": 4,
   "id": "562691e7",
   "metadata": {},
   "outputs": [],
   "source": [
    "# Small grid\n",
    "param_grid = {\n",
    "    \"tfidf__min_df\": [1, 2, 3],\n",
    "    \"clf__C\": [0.5, 1.0, 2.0, 4.0],\n",
    "    \"clf__penalty\": [\"l2\"],\n",
    "    \"clf__solver\": [\"lbfgs\"],\n",
    "}"
   ]
  },
  {
   "cell_type": "code",
   "execution_count": 5,
   "id": "7c907abd",
   "metadata": {},
   "outputs": [
    {
     "name": "stdout",
     "output_type": "stream",
     "text": [
      "Fitting 5 folds for each of 12 candidates, totalling 60 fits\n"
     ]
    }
   ],
   "source": [
    "# Optimize F1 on spam (positive class)\n",
    "gs = GridSearchCV(pipe, param_grid, scoring=\"f1\", cv=5, n_jobs=-1, verbose=1)\n",
    "gs.fit(X_train, y_train)\n",
    "best_model = gs.best_estimator_\n"
   ]
  },
  {
   "cell_type": "code",
   "execution_count": 6,
   "id": "8aa89ac7",
   "metadata": {},
   "outputs": [],
   "source": [
    "# Validate on VAL (original distribution)\n",
    "y_pred = best_model.predict(X_val)\n",
    "y_prob = best_model.predict_proba(X_val)[:, 1]\n",
    "\n",
    "prec, rec, f1, _ = precision_recall_fscore_support(\n",
    "    y_val, y_pred, average=\"binary\", zero_division=0\n",
    ")\n",
    "auc = roc_auc_score(y_val, y_prob)\n",
    "\n",
    "report = {\n",
    "    \"best_params\": gs.best_params_,\n",
    "    \"val_metrics\": {\n",
    "        \"precision\": float(prec),\n",
    "        \"recall\": float(rec),\n",
    "        \"f1\": float(f1),\n",
    "        \"roc_auc\": float(auc),\n",
    "    },\n",
    "}"
   ]
  },
  {
   "cell_type": "code",
   "execution_count": 7,
   "id": "3cb76a93",
   "metadata": {},
   "outputs": [
    {
     "name": "stdout",
     "output_type": "stream",
     "text": [
      "Saved model: ../OUTPUT/04_Training_Results/logreg.joblib\n",
      "Saved report: ../OUTPUT/04_Training_Results/train_report.json\n",
      "Best params: {'clf__C': 4.0, 'clf__penalty': 'l2', 'clf__solver': 'lbfgs', 'tfidf__min_df': 2}\n",
      "VAL metrics: {'precision': 0.9191919191919192, 'recall': 0.9381443298969072, 'f1': 0.9285714285714286, 'roc_auc': 0.9933910977782515}\n"
     ]
    }
   ],
   "source": [
    "# Save artifacts\n",
    "joblib.dump(best_model, model_path)\n",
    "with open(report_path, \"w\") as f:\n",
    "    json.dump(report, f, indent=2)\n",
    "\n",
    "print(\"Saved model:\", model_path)\n",
    "print(\"Saved report:\", report_path)\n",
    "print(\"Best params:\", gs.best_params_)\n",
    "print(\"VAL metrics:\", report[\"val_metrics\"])"
   ]
  }
 ],
 "metadata": {
  "kernelspec": {
   "display_name": ".venv",
   "language": "python",
   "name": "python3"
  },
  "language_info": {
   "codemirror_mode": {
    "name": "ipython",
    "version": 3
   },
   "file_extension": ".py",
   "mimetype": "text/x-python",
   "name": "python",
   "nbconvert_exporter": "python",
   "pygments_lexer": "ipython3",
   "version": "3.11.8"
  }
 },
 "nbformat": 4,
 "nbformat_minor": 5
}
