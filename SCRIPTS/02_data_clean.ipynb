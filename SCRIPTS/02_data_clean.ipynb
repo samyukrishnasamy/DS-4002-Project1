{
 "cells": [
  {
   "cell_type": "markdown",
   "id": "6a1b45f1",
   "metadata": {},
   "source": [
    "Data Cleaning\n",
    "---\n",
    "\n",
    "This script cleans and normalizes the raw SMS dataset to produce a\n",
    "ready-to-use CSV for later steps (splitting, training, evaluation).\n",
    "\n",
    "Pipeline steps:\n",
    "1. Load Raw Data\n",
    "   - Reads the original SMS Spam Collection dataset from ../DATA/SMSSpamCollection.csv.\n",
    "\n",
    "2. Standardize Labels\n",
    "   - Converts values in the \"Label\" column to lowercase (e.g., \"Ham\" -> \"ham\").\n",
    "\n",
    "3. Normalize Text\n",
    "   - Strips leading/trailing whitespace from each message.\n",
    "   - Collapses multiple spaces into a single space.\n",
    "   - Replaces curly quotes/apostrophes (“ ” ‘ ’) with straight ASCII quotes (' \").\n",
    "\n",
    "4. Remove Duplicates\n",
    "   - Identifies and removes duplicate messages based on the \"SMS_Message\" column.\n",
    "   - Keeps the first occurrence of each unique message.\n",
    "   - Ensures that the cleaned dataset contains only one row per unique message text.\n",
    "\n",
    "5. Save Clean Data\n",
    "   - Writes the cleaned dataset to ../DATA/clean/sms_clean.csv.\n",
    "   - This file will be used by the split script (02) to create train/val/test sets.\n",
    "\n",
    "Outputs:\n",
    "   - ../DATA/clean/sms_clean.csv (cleaned dataset with standardized labels, normalized text, and duplicates removed)\n",
    "\n",
    "Also prints:\n",
    "   - Total number of rows (after removing duplicates)\n",
    "   - Null counts per column\n",
    "   - Class distribution (ham vs spam)"
   ]
  },
  {
   "cell_type": "code",
   "execution_count": 1,
   "id": "ae5dcc73",
   "metadata": {},
   "outputs": [],
   "source": [
    "from pathlib import Path\n",
    "import pandas as pd\n",
    "\n",
    "df = pd.read_csv(\"../DATA/SMSSpamCollection.csv\")\n",
    "\n",
    "# Paths\n",
    "clean_path = Path(\"../DATA/clean/sms_clean.csv\")\n",
    "clean_path.parent.mkdir(parents=True, exist_ok=True)"
   ]
  },
  {
   "cell_type": "code",
   "execution_count": 2,
   "id": "18ccd69a",
   "metadata": {},
   "outputs": [],
   "source": [
    "def normalize_sms_df(df_in):\n",
    "    df = df_in.copy()\n",
    "\n",
    "    # Standardize labels\n",
    "    df[\"Label\"] = df[\"Label\"].astype(str).str.strip().str.lower()\n",
    "\n",
    "    # Normalize text\n",
    "    df[\"SMS_Message\"] = (\n",
    "        df[\"SMS_Message\"]\n",
    "        .astype(str)\n",
    "        .str.strip()\n",
    "        .str.replace(r\"\\s+\", \" \", regex=True)  # collapse whitespace\n",
    "        .str.replace(\"’\", \"'\", regex=False)    # curly apostrophe -> straight\n",
    "        .str.replace(\"‘\", \"'\", regex=False)    # curly opening quote -> straight\n",
    "        .str.replace(\"“\", '\"', regex=False)    # curly double -> straight\n",
    "        .str.replace(\"”\", '\"', regex=False)    # curly double -> straight\n",
    "    )\n",
    "\n",
    "\n",
    "    # Drop duplicate messages, keep the first occurrence\n",
    "    df = df.drop_duplicates(subset=[\"SMS_Message\"], keep=\"first\").reset_index(drop=True)\n",
    "\n",
    "    return df"
   ]
  },
  {
   "cell_type": "code",
   "execution_count": 3,
   "id": "4106a6bd",
   "metadata": {},
   "outputs": [
    {
     "name": "stdout",
     "output_type": "stream",
     "text": [
      "Rows after removing duplicates: 5158\n",
      "Null counts: {'Label': 0, 'SMS_Message': 0}\n",
      "Label\n",
      "ham     4516\n",
      "spam     642\n",
      "Name: count, dtype: int64\n",
      "Total duplicate rows in cleaned dataset: 0\n",
      "Wrote cleaned CSV to: ../DATA/clean/sms_clean.csv\n"
     ]
    }
   ],
   "source": [
    "# Normalize and clean\n",
    "df_clean = normalize_sms_df(df)\n",
    "\n",
    "# Printing to see results\n",
    "print(\"Rows after removing duplicates:\", len(df_clean))\n",
    "print(\"Null counts:\", df_clean.isna().sum().to_dict())\n",
    "print(df_clean[\"Label\"].value_counts())\n",
    "\n",
    "duplicates = df_clean[df_clean.duplicated(subset=[\"SMS_Message\"], keep=False)]\n",
    "print(f\"Total duplicate rows in cleaned dataset: {len(duplicates)}\")\n",
    "\n",
    "# Save cleaned dataset\n",
    "df_clean.to_csv(clean_path, index=False)\n",
    "print(f\"Wrote cleaned CSV to: {clean_path}\")"
   ]
  },
  {
   "cell_type": "markdown",
   "id": "a8ec6563",
   "metadata": {},
   "source": [
    "Mention in markdown: why stratification matters for imbalance."
   ]
  }
 ],
 "metadata": {
  "kernelspec": {
   "display_name": ".venv",
   "language": "python",
   "name": "python3"
  },
  "language_info": {
   "codemirror_mode": {
    "name": "ipython",
    "version": 3
   },
   "file_extension": ".py",
   "mimetype": "text/x-python",
   "name": "python",
   "nbconvert_exporter": "python",
   "pygments_lexer": "ipython3",
   "version": "3.11.8"
  }
 },
 "nbformat": 4,
 "nbformat_minor": 5
}
