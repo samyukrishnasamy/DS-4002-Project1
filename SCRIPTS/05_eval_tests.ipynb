{
 "cells": [
  {
   "cell_type": "markdown",
   "id": "a25c2a4a",
   "metadata": {},
   "source": [
    "Evaluate Tests\n",
    "----------------\n",
    "This script evaluates the trained Logistic Regression spam classifier\n",
    "on the held-out TEST split and saves evaluation artifacts.\n",
    "\n",
    "Steps:\n",
    "1. Load Data & Model\n",
    "   - Reads the test split from ../DATA/splits/test.csv.\n",
    "   - Loads the trained pipeline (TF-IDF + RandomOverSampler + LogisticRegression)\n",
    "     from ../OUTPUT/03_Split_and_Train/logreg.joblib.\n",
    "\n",
    "2. Generate Predictions\n",
    "   - Predicts class labels (ham/spam) for all test messages.\n",
    "   - Computes predicted probabilities for spam.\n",
    "\n",
    "3. Compute Metrics\n",
    "   - Creates a classification report with precision, recall, F1 for both classes.\n",
    "   - Computes ROC-AUC to measure overall discriminative ability.\n",
    "   - Stores all metrics in ../OUTPUT/04_Test_Eval/test_report.json.\n",
    "\n",
    "4. Confusion Matrix\n",
    "   - Generates a confusion matrix to visualize true vs. predicted labels.\n",
    "   - Saves the matrix as a PNG figure in ../OUTPUT/04_Test_Eval/confusion_matrix.png.\n",
    "\n",
    "Outputs:\n",
    "   - ../OUTPUT/04_Test_Eval/test_report.json   (classification metrics + ROC-AUC)\n",
    "   - ../OUTPUT/04_Test_Eval/confusion_matrix.png (confusion matrix plot)\n",
    "\n",
    "This final evaluation step provides unbiased performance metrics on data\n",
    "never seen during training or validation, satisfying the rubric requirement\n",
    "for test-set reporting and explanatory figures."
   ]
  },
  {
   "cell_type": "code",
   "execution_count": 1,
   "id": "ae78d870",
   "metadata": {},
   "outputs": [],
   "source": [
    "#!/usr/bin/env python3\n",
    "# -*- coding: utf-8 -*-\n",
    "\n",
    "import json\n",
    "from pathlib import Path\n",
    "\n",
    "import joblib\n",
    "import numpy as np\n",
    "import pandas as pd\n",
    "import matplotlib.pyplot as plt\n",
    "from sklearn.metrics import classification_report, confusion_matrix, roc_auc_score\n",
    "\n",
    "splits_dir = Path(\"../DATA/splits\")\n",
    "out_dir = Path(\"../OUTPUT/05_Test_Eval\")\n",
    "out_dir.mkdir(parents=True, exist_ok=True)\n",
    "\n",
    "model_path = Path(\"../OUTPUT/04_Training_Results/logreg.joblib\")\n",
    "test = pd.read_csv(splits_dir / \"test.csv\")"
   ]
  },
  {
   "cell_type": "code",
   "execution_count": 2,
   "id": "2b5b1dd6",
   "metadata": {},
   "outputs": [],
   "source": [
    "X_test = test[\"SMS_Message\"].tolist()\n",
    "y_test = (test[\"Label\"].str.lower() == \"spam\").astype(int).values\n",
    "\n",
    "model = joblib.load(model_path)\n"
   ]
  },
  {
   "cell_type": "code",
   "execution_count": 3,
   "id": "fe9a526c",
   "metadata": {},
   "outputs": [],
   "source": [
    "# Predict\n",
    "y_pred = model.predict(X_test)\n",
    "y_prob = model.predict_proba(X_test)[:, 1]"
   ]
  },
  {
   "cell_type": "code",
   "execution_count": 4,
   "id": "f14e3a21",
   "metadata": {},
   "outputs": [],
   "source": [
    "# Metrics\n",
    "report = classification_report(y_test, y_pred, target_names=[\"ham\", \"spam\"], output_dict=True)\n",
    "report[\"roc_auc\"] = float(roc_auc_score(y_test, y_prob))\n",
    "\n",
    "with open(out_dir / \"test_report.json\", \"w\") as f:\n",
    "    json.dump(report, f, indent=2)"
   ]
  },
  {
   "cell_type": "code",
   "execution_count": 5,
   "id": "ba52c431",
   "metadata": {},
   "outputs": [
    {
     "name": "stdout",
     "output_type": "stream",
     "text": [
      "Wrote: ../OUTPUT/05_Test_Eval/test_report.json\n",
      "Wrote: ../OUTPUT/05_Test_Eval/confusion_matrix.png\n"
     ]
    }
   ],
   "source": [
    "# Confusion matrix PNG\n",
    "cm = confusion_matrix(y_test, y_pred)\n",
    "fig = plt.figure()\n",
    "plt.imshow(cm, interpolation=\"nearest\")\n",
    "plt.title(\"Confusion Matrix (Test)\")\n",
    "plt.xticks([0, 1], [\"ham\", \"spam\"])\n",
    "plt.yticks([0, 1], [\"ham\", \"spam\"])\n",
    "for (i, j), v in np.ndenumerate(cm):\n",
    "    plt.text(j, i, str(v), ha=\"center\", va=\"center\")\n",
    "plt.xlabel(\"Predicted\")\n",
    "plt.ylabel(\"True\")\n",
    "fig.savefig(out_dir / \"confusion_matrix.png\", bbox_inches=\"tight\")\n",
    "plt.close(fig)\n",
    "\n",
    "print(\"Wrote:\", out_dir / \"test_report.json\")\n",
    "print(\"Wrote:\", out_dir / \"confusion_matrix.png\")"
   ]
  },
  {
   "cell_type": "markdown",
   "id": "7b7ac9a9",
   "metadata": {},
   "source": [
    "Explain Results:"
   ]
  }
 ],
 "metadata": {
  "kernelspec": {
   "display_name": ".venv",
   "language": "python",
   "name": "python3"
  },
  "language_info": {
   "codemirror_mode": {
    "name": "ipython",
    "version": 3
   },
   "file_extension": ".py",
   "mimetype": "text/x-python",
   "name": "python",
   "nbconvert_exporter": "python",
   "pygments_lexer": "ipython3",
   "version": "3.11.8"
  }
 },
 "nbformat": 4,
 "nbformat_minor": 5
}
