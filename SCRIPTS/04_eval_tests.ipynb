{
 "cells": [
  {
   "cell_type": "code",
   "execution_count": 1,
   "id": "ae78d870",
   "metadata": {},
   "outputs": [
    {
     "name": "stdout",
     "output_type": "stream",
     "text": [
      "Wrote: ../OUTPUT/test_report.json\n",
      "Wrote: ../OUTPUT/confusion_matrix.png\n"
     ]
    }
   ],
   "source": [
    "#!/usr/bin/env python3\n",
    "# -*- coding: utf-8 -*-\n",
    "\"\"\"\n",
    "04_eval_test.py\n",
    "----------------\n",
    "Purpose:\n",
    "    Evaluate the saved Logistic Regression model on the HELD-OUT TEST split.\n",
    "    Save: classification report (JSON) and confusion matrix (PNG) to OUTPUT/.\n",
    "\n",
    "Assumptions:\n",
    "    - ../DATA/splits/test.csv\n",
    "    - ../OUTPUT/logreg.joblib\n",
    "    - Columns: \"Label\", \"SMS_Message\"; no schema checks here.\n",
    "\n",
    "Outputs:\n",
    "    - ../OUTPUT/test_report.json\n",
    "    - ../OUTPUT/confusion_matrix.png\n",
    "\"\"\"\n",
    "import json\n",
    "from pathlib import Path\n",
    "\n",
    "import joblib\n",
    "import numpy as np\n",
    "import pandas as pd\n",
    "import matplotlib.pyplot as plt\n",
    "from sklearn.metrics import classification_report, confusion_matrix, roc_auc_score\n",
    "\n",
    "splits_dir = Path(\"../DATA/splits\")\n",
    "out_dir = Path(\"../OUTPUT\")\n",
    "out_dir.mkdir(parents=True, exist_ok=True)\n",
    "\n",
    "model_path = out_dir / \"logreg.joblib\"\n",
    "test = pd.read_csv(splits_dir / \"test.csv\")\n",
    "\n",
    "X_test = test[\"SMS_Message\"].tolist()\n",
    "y_test = (test[\"Label\"].str.lower() == \"spam\").astype(int).values\n",
    "\n",
    "model = joblib.load(model_path)\n",
    "\n",
    "# Predict\n",
    "y_pred = model.predict(X_test)\n",
    "y_prob = model.predict_proba(X_test)[:, 1]\n",
    "\n",
    "# Metrics\n",
    "report = classification_report(y_test, y_pred, target_names=[\"ham\", \"spam\"], output_dict=True)\n",
    "report[\"roc_auc\"] = float(roc_auc_score(y_test, y_prob))\n",
    "\n",
    "with open(out_dir / \"test_report.json\", \"w\") as f:\n",
    "    json.dump(report, f, indent=2)\n",
    "\n",
    "# Confusion matrix PNG\n",
    "cm = confusion_matrix(y_test, y_pred)\n",
    "fig = plt.figure()\n",
    "plt.imshow(cm, interpolation=\"nearest\")\n",
    "plt.title(\"Confusion Matrix (Test)\")\n",
    "plt.xticks([0, 1], [\"ham\", \"spam\"])\n",
    "plt.yticks([0, 1], [\"ham\", \"spam\"])\n",
    "for (i, j), v in np.ndenumerate(cm):\n",
    "    plt.text(j, i, str(v), ha=\"center\", va=\"center\")\n",
    "plt.xlabel(\"Predicted\")\n",
    "plt.ylabel(\"True\")\n",
    "fig.savefig(out_dir / \"confusion_matrix.png\", bbox_inches=\"tight\")\n",
    "plt.close(fig)\n",
    "\n",
    "print(\"Wrote:\", out_dir / \"test_report.json\")\n",
    "print(\"Wrote:\", out_dir / \"confusion_matrix.png\")\n"
   ]
  }
 ],
 "metadata": {
  "kernelspec": {
   "display_name": ".venv",
   "language": "python",
   "name": "python3"
  },
  "language_info": {
   "codemirror_mode": {
    "name": "ipython",
    "version": 3
   },
   "file_extension": ".py",
   "mimetype": "text/x-python",
   "name": "python",
   "nbconvert_exporter": "python",
   "pygments_lexer": "ipython3",
   "version": "3.11.8"
  }
 },
 "nbformat": 4,
 "nbformat_minor": 5
}
