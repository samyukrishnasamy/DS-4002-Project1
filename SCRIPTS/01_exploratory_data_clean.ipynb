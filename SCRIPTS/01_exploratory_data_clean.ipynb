{
 "cells": [
  {
   "cell_type": "markdown",
   "id": "617ab923",
   "metadata": {},
   "source": [
    "Exploratory Data Analysis\n",
    "---\n",
    "\n",
    "This script performs initial exploratory data analysis (EDA) on the raw\n",
    "SMS Spam Collection dataset and saves explanatory plots to OUTPUT/01_Exploratory_Plots.\n",
    "\n",
    "Steps:\n",
    "1. Load Raw Data\n",
    "    - Raw TXT File was manually converted to a CSV dataset \"SMSSpamCollection.csv\" with labels \"Label\" and \"SMS_Message\" added.\n",
    "   - Reads the converted CSV dataset from ../DATA/SMSSpamCollection.csv.\n",
    "   - Confirms structure by printing the first few rows.\n",
    "\n",
    "2. Missing Values Plot\n",
    "   - Counts null values per column.\n",
    "   - Creates a bar plot to visualize missingness in the dataset.\n",
    "   - Saved as ../OUTPUT/01_Exploratory_Plots/Missing_Values.png.\n",
    "\n",
    "3. Class Distribution Plot\n",
    "   - Shows the number of ham vs. spam messages.\n",
    "   - Useful to highlight the class imbalance problem.\n",
    "   - Saved as ../OUTPUT/01_Exploratory_Plots/Class_Distribution.png.\n",
    "\n",
    "4. Message Length Distribution Plot\n",
    "   - Computes the character length of each message.\n",
    "   - Plots histograms of message lengths for ham vs. spam.\n",
    "   - Shows spam messages tend to differ in length distribution from ham.\n",
    "   - Saved as ../OUTPUT/01_Exploratory_Plots/Message_Length_Distribution.png.\n",
    "\n",
    "Outputs:\n",
    "   - ../OUTPUT/01_Exploratory_Plots/Missing_Values.png\n",
    "   - ../OUTPUT/01_Exploratory_Plots/Class_Distribution.png\n",
    "   - ../OUTPUT/01_Exploratory_Plots/Message_Length_Distribution.png\n",
    "\n",
    "These plots provide context for later cleaning, splitting, and modeling\n",
    "steps and satisfy the rubric requirement for explanatory EDA plots.\n",
    "\"\"\"\n"
   ]
  },
  {
   "cell_type": "code",
   "execution_count": 1,
   "id": "182874b2",
   "metadata": {},
   "outputs": [
    {
     "name": "stdout",
     "output_type": "stream",
     "text": [
      "Rows: 5572\n",
      "  Label                                        SMS_Message\n",
      "0   ham  Go until jurong point, crazy.. Available only ...\n",
      "1   ham                      Ok lar... Joking wif u oni...\n",
      "2  spam  Free entry in 2 a wkly comp to win FA Cup fina...\n",
      "3   ham  U dun say so early hor... U c already then say...\n",
      "4   ham  Nah I don't think he goes to usf, he lives aro...\n"
     ]
    }
   ],
   "source": [
    "import pandas as pd\n",
    "import matplotlib.pyplot as plt\n",
    "import seaborn as sns\n",
    "from pathlib import Path\n",
    "\n",
    "df = pd.read_csv(\"../DATA/SMSSpamCollection.csv\")\n",
    "\n",
    "print(\"Rows:\", len(df))\n",
    "\n",
    "print(df.head())\n",
    "\n",
    "outdir = Path(\"../OUTPUT/01_Exploratory_Plots\")\n",
    "outdir.mkdir(parents=True, exist_ok=True)"
   ]
  },
  {
   "cell_type": "code",
   "execution_count": 2,
   "id": "6b80e706",
   "metadata": {},
   "outputs": [
    {
     "name": "stdout",
     "output_type": "stream",
     "text": [
      "Duplicate messages found:\n",
      "     Label                                        SMS_Message\n",
      "505   spam  +123 Congratulations - in this week's competit...\n",
      "2124  spam  +123 Congratulations - in this week's competit...\n",
      "2163   ham  1) Go to write msg 2) Put on Dictionary mode 3...\n",
      "1373   ham  1) Go to write msg 2) Put on Dictionary mode 3...\n",
      "2344   ham  1) Go to write msg 2) Put on Dictionary mode 3...\n",
      "1050  spam  18 days to Euro2004 kickoff! U will be kept in...\n",
      "2719  spam  18 days to Euro2004 kickoff! U will be kept in...\n",
      "389   spam  4mths half price Orange line rental & latest c...\n",
      "2044  spam  4mths half price Orange line rental & latest c...\n",
      "2982   ham  7 wonders in My WORLD 7th You 6th Ur style 5th...\n",
      "4556   ham  7 wonders in My WORLD 7th You 6th Ur style 5th...\n",
      "1470   ham  7 wonders in My WORLD 7th You 6th Ur style 5th...\n",
      "1779   ham  7 wonders in My WORLD 7th You 6th Ur style 5th...\n",
      "2370   ham  A Boy loved a gal. He propsd bt she didnt mind...\n",
      "5104   ham  A Boy loved a gal. He propsd bt she didnt mind...\n",
      "3749   ham  A bit of Ur smile is my hppnss, a drop of Ur t...\n",
      "4962   ham  A bit of Ur smile is my hppnss, a drop of Ur t...\n",
      "2202   ham  A boy was late 2 home. His father: \"POWER OF F...\n",
      "4978   ham  A boy was late 2 home. His father: \"POWER OF F...\n",
      "5366  spam  A £400 XMAS REWARD IS WAITING FOR YOU! Our com...\n",
      "Total duplicate rows: 703\n"
     ]
    }
   ],
   "source": [
    "# Duplicate Messages\n",
    "duplicates = df[df.duplicated(subset=[\"SMS_Message\"], keep=False)]\n",
    "print(\"Duplicate messages found:\")\n",
    "print(duplicates.sort_values(\"SMS_Message\").head(20))\n",
    "print(f\"Total duplicate rows: {len(duplicates)}\")"
   ]
  },
  {
   "cell_type": "code",
   "execution_count": 3,
   "id": "f4947e57",
   "metadata": {},
   "outputs": [
    {
     "name": "stdout",
     "output_type": "stream",
     "text": [
      "All duplicate messages have consistent labels.\n"
     ]
    }
   ],
   "source": [
    "# Check if duplicates have conflicting labels\n",
    "conflicting = (\n",
    "    duplicates.groupby(\"SMS_Message\")[\"Label\"]\n",
    "              .nunique()\n",
    "              .reset_index()\n",
    "              .query(\"Label > 1\")\n",
    ")\n",
    "\n",
    "if not conflicting.empty:\n",
    "    print(\"Conflicting duplicates found (same message, different labels):\")\n",
    "    print(conflicting)\n",
    "else:\n",
    "    print(\"All duplicate messages have consistent labels.\")"
   ]
  },
  {
   "cell_type": "code",
   "execution_count": 4,
   "id": "8ac608e2",
   "metadata": {},
   "outputs": [
    {
     "name": "stdout",
     "output_type": "stream",
     "text": [
      "Saved duplicate analysis plot to: ../OUTPUT/01_Exploratory_Plots/Duplicates_By_Category.png\n"
     ]
    }
   ],
   "source": [
    "# Duplicates by Category Plot\n",
    "dup_flags = df.duplicated(subset=[\"SMS_Message\"], keep=False)\n",
    "df[\"is_duplicate\"] = dup_flags\n",
    "\n",
    "dup_counts = df.groupby([\"Label\", \"is_duplicate\"]).size().reset_index(name=\"count\")\n",
    "\n",
    "plt.figure(figsize=(6,4))\n",
    "sns.barplot(x=\"Label\", y=\"count\", hue=\"is_duplicate\", data=dup_counts, palette=\"Set1\")\n",
    "plt.title(\"Duplicate vs Unique Messages by Category\")\n",
    "plt.xlabel(\"Message Type\")\n",
    "plt.ylabel(\"Count\")\n",
    "plt.legend(title=\"Is Duplicate\", labels=[\"Unique\", \"Duplicate\"])\n",
    "plt.tight_layout()\n",
    "\n",
    "outdir = Path(\"../OUTPUT/01_Exploratory_Plots\")\n",
    "plt.savefig(outdir / \"Duplicates_By_Category.png\", dpi=300)\n",
    "plt.close()\n",
    "\n",
    "print(\"Saved duplicate analysis plot to:\", outdir / \"Duplicates_By_Category.png\")\n"
   ]
  },
  {
   "cell_type": "code",
   "execution_count": 5,
   "id": "e202a624",
   "metadata": {},
   "outputs": [
    {
     "name": "stderr",
     "output_type": "stream",
     "text": [
      "/var/folders/28/snq1pkyd68jdmfy73dssxll40000gn/T/ipykernel_83263/2550214905.py:4: FutureWarning: \n",
      "\n",
      "Passing `palette` without assigning `hue` is deprecated and will be removed in v0.14.0. Assign the `x` variable to `hue` and set `legend=False` for the same effect.\n",
      "\n",
      "  sns.barplot(x=missing_counts.index, y=missing_counts.values, palette=\"Set2\")\n"
     ]
    }
   ],
   "source": [
    "# Missing Values Plot\n",
    "missing_counts = df.isnull().sum()\n",
    "plt.figure(figsize=(6,4))\n",
    "sns.barplot(x=missing_counts.index, y=missing_counts.values, palette=\"Set2\")\n",
    "plt.title(\"Count of Missing Values per Column\")\n",
    "plt.ylabel(\"Number of Missing Values\")\n",
    "plt.xlabel(\"Columns\")\n",
    "plt.tight_layout()\n",
    "plt.savefig(outdir / \"Missing_Values.png\", dpi=300)\n",
    "plt.close()"
   ]
  },
  {
   "cell_type": "code",
   "execution_count": 6,
   "id": "6e822e1a",
   "metadata": {},
   "outputs": [
    {
     "name": "stderr",
     "output_type": "stream",
     "text": [
      "/var/folders/28/snq1pkyd68jdmfy73dssxll40000gn/T/ipykernel_83263/3940851987.py:3: FutureWarning: \n",
      "\n",
      "Passing `palette` without assigning `hue` is deprecated and will be removed in v0.14.0. Assign the `x` variable to `hue` and set `legend=False` for the same effect.\n",
      "\n",
      "  sns.countplot(x=\"Label\", data=df, palette=\"Set1\")\n"
     ]
    }
   ],
   "source": [
    "# Class Distribution Plot\n",
    "plt.figure(figsize=(6,4))\n",
    "sns.countplot(x=\"Label\", data=df, palette=\"Set1\")\n",
    "plt.title(\"Class Distribution of SMS Messages\")\n",
    "plt.xlabel(\"Message Type\")\n",
    "plt.ylabel(\"Count\")\n",
    "plt.tight_layout()\n",
    "plt.savefig(outdir / \"Class_Distribution.png\", dpi=300)\n",
    "plt.close()"
   ]
  },
  {
   "cell_type": "code",
   "execution_count": 7,
   "id": "8dce21db",
   "metadata": {},
   "outputs": [],
   "source": [
    "# Message Length Distribution Plot\n",
    "msg_lengths = df[\"SMS_Message\"].apply(len)\n",
    "\n",
    "plt.figure(figsize=(8,5))\n",
    "sns.histplot(x=msg_lengths, hue=df[\"Label\"], bins=50, kde=True, palette=\"Set1\")\n",
    "plt.title(\"Distribution of Message Lengths by Class\")\n",
    "plt.xlabel(\"Message Length (characters)\")\n",
    "plt.ylabel(\"Frequency\")\n",
    "plt.xlim(0, 300)\n",
    "plt.tight_layout()\n",
    "plt.savefig(outdir / \"Message_Length_Distribution.png\", dpi=300)\n",
    "plt.close()"
   ]
  },
  {
   "cell_type": "markdown",
   "id": "8b3d7fba",
   "metadata": {},
   "source": [
    "Add a markdown summary paragraph: what issues were found & how you handled them."
   ]
  }
 ],
 "metadata": {
  "kernelspec": {
   "display_name": ".venv",
   "language": "python",
   "name": "python3"
  },
  "language_info": {
   "codemirror_mode": {
    "name": "ipython",
    "version": 3
   },
   "file_extension": ".py",
   "mimetype": "text/x-python",
   "name": "python",
   "nbconvert_exporter": "python",
   "pygments_lexer": "ipython3",
   "version": "3.11.8"
  }
 },
 "nbformat": 4,
 "nbformat_minor": 5
}
