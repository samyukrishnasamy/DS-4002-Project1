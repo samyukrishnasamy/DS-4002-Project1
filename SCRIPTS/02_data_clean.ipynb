{
 "cells": [
  {
   "cell_type": "code",
   "execution_count": 3,
   "id": "ae5dcc73",
   "metadata": {},
   "outputs": [
    {
     "name": "stdout",
     "output_type": "stream",
     "text": [
      "Rows: 5572\n",
      "Null counts: {'Label': 0, 'SMS_Message': 0}\n",
      "Label\n",
      "ham     4825\n",
      "spam     747\n",
      "Name: count, dtype: int64\n",
      "Wrote cleaned CSV to: ../DATA/clean/sms_clean.csv\n"
     ]
    }
   ],
   "source": [
    "from pathlib import Path\n",
    "import pandas as pd\n",
    "\n",
    "df = pd.read_csv(\"../DATA/SMSSpamCollection.csv\")\n",
    "\n",
    "def normalize_sms_df(df_in):\n",
    "    df = df_in.copy()\n",
    "\n",
    "    # 1) Validate expected columns from your earlier EDA\n",
    "    expected = [\"Label\", \"SMS_Message\"]\n",
    "    missing = [c for c in expected if c not in df.columns]\n",
    "    if missing:\n",
    "        raise ValueError(f\"Missing required columns: {missing}. Found: {list(df.columns)}\")\n",
    "\n",
    "    # 2) Standardize labels\n",
    "    df[\"Label\"] = df[\"Label\"].astype(str).str.strip().str.lower()\n",
    "\n",
    "    # 3) Normalize text\n",
    "    df[\"SMS_Message\"] = (\n",
    "        df[\"SMS_Message\"]\n",
    "        .astype(str)\n",
    "        .str.strip()\n",
    "        .str.replace(r\"\\s+\", \" \", regex=True)  # collapse whitespace\n",
    "        .str.replace(\"’\", \"'\", regex=False)    # curly apostrophe -> straight\n",
    "        .str.replace(\"‘\", \"'\", regex=False)    # curly opening quote -> straight\n",
    "        .str.replace(\"“\", '\"', regex=False)    # curly double -> straight\n",
    "        .str.replace(\"”\", '\"', regex=False)    # curly double -> straight\n",
    "    )\n",
    "\n",
    "    return df\n",
    "\n",
    "\n",
    "\n",
    "clean_path = Path(\"../DATA/clean/sms_clean.csv\")\n",
    "clean_path.parent.mkdir(parents=True, exist_ok=True)\n",
    "\n",
    "df_clean = normalize_sms_df(df)\n",
    "\n",
    "# Quick sanity prints\n",
    "print(\"Rows:\", len(df_clean))\n",
    "print(\"Null counts:\", df_clean.isna().sum().to_dict())\n",
    "print(df_clean[\"Label\"].value_counts())\n",
    "\n",
    "df_clean.to_csv(clean_path, index=False)\n",
    "print(f\"Wrote cleaned CSV to: {clean_path}\")"
   ]
  }
 ],
 "metadata": {
  "kernelspec": {
   "display_name": ".venv",
   "language": "python",
   "name": "python3"
  },
  "language_info": {
   "codemirror_mode": {
    "name": "ipython",
    "version": 3
   },
   "file_extension": ".py",
   "mimetype": "text/x-python",
   "name": "python",
   "nbconvert_exporter": "python",
   "pygments_lexer": "ipython3",
   "version": "3.11.8"
  }
 },
 "nbformat": 4,
 "nbformat_minor": 5
}
