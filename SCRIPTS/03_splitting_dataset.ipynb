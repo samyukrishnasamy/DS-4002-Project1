{
 "cells": [
  {
   "cell_type": "markdown",
   "id": "720fe3e3",
   "metadata": {},
   "source": [
    "Data Splitting\n",
    "--------------\n",
    "This script splits the cleaned SMS dataset into Train, Validation, and Test\n",
    "subsets for use in model training and evaluation.\n",
    "\n",
    "Steps:\n",
    "1. Load Clean Data\n",
    "   - Reads the cleaned dataset from ../DATA/clean/sms_clean.csv.\n",
    "\n",
    "2. Stratified Split\n",
    "   - Splits the dataset into Train (70%), Validation (15%), and Test (15%).\n",
    "   - Uses stratification on the \"Label\" column to preserve the ham/spam ratio\n",
    "     across all splits.\n",
    "   - Stratification is needed because the dataset is highly imbalanced\n",
    "     (~86% ham vs ~14% spam). Without stratification, some splits might\n",
    "     contain very few spam examples, making evaluation unreliable and\n",
    "     preventing the model from learning patterns of the minority class.\n",
    "\n",
    "3. Save Splits\n",
    "   - Writes the split datasets to ../DATA/splits/train.csv,\n",
    "     ../DATA/splits/val.csv, and ../DATA/splits/test.csv.\n",
    "\n",
    "Outputs:\n",
    "   - ../DATA/splits/train.csv (70% of data, stratified)\n",
    "   - ../DATA/splits/val.csv   (15% of data, stratified)\n",
    "   - ../DATA/splits/test.csv  (15% of data, stratified)\n",
    "\n",
    "This step ensures that all subsequent training and evaluation stages\n",
    "work with splits that are representative of the original class imbalance,\n",
    "while still maintaining fair coverage of the minority spam class."
   ]
  },
  {
   "cell_type": "code",
   "execution_count": 1,
   "id": "646d9af3",
   "metadata": {},
   "outputs": [
    {
     "name": "stdout",
     "output_type": "stream",
     "text": [
      "Rows (total): 5158\n",
      "train: 3610 | spam_ratio= 0.1244\n",
      "val  : 774 | spam_ratio= 0.1253\n",
      "test : 774 | spam_ratio= 0.1240\n",
      "Wrote splits to: ../DATA/splits\n"
     ]
    }
   ],
   "source": [
    "#!/usr/bin/env python3\n",
    "# -*- coding: utf-8 -*-\n",
    "\n",
    "from pathlib import Path\n",
    "import pandas as pd\n",
    "from sklearn.model_selection import train_test_split\n",
    "\n",
    "\n",
    "def main():\n",
    "    clean_path = Path(\"../DATA/clean/sms_clean.csv\")\n",
    "    splits_dir = Path(\"../DATA/splits\")\n",
    "    splits_dir.mkdir(parents=True, exist_ok=True)\n",
    "\n",
    "    # Load cleaned data\n",
    "    df = pd.read_csv(clean_path)\n",
    "\n",
    "    # Target for stratification: spam=1, ham=0\n",
    "    y = (df[\"Label\"].str.lower() == \"spam\").astype(int)\n",
    "\n",
    "    # 70% train, 30% temp (stratified)\n",
    "    train_df, temp_df = train_test_split(\n",
    "        df, test_size=0.30, stratify=y, random_state=42\n",
    "    )\n",
    "\n",
    "    # Split temp into 15% val, 15% test (stratified)\n",
    "    y_temp = (temp_df[\"Label\"].str.lower() == \"spam\").astype(int)\n",
    "    val_df, test_df = train_test_split(\n",
    "        temp_df, test_size=0.50, stratify=y_temp, random_state=42\n",
    "    )\n",
    "\n",
    "    # Save splits\n",
    "    train_df.to_csv(splits_dir / \"train.csv\", index=False)\n",
    "    val_df.to_csv(splits_dir / \"val.csv\", index=False)\n",
    "    test_df.to_csv(splits_dir / \"test.csv\", index=False)\n",
    "\n",
    "    # Quick sanity: sizes + spam ratios\n",
    "    ratio = lambda d: float((d[\"Label\"].str.lower() == \"spam\").mean())\n",
    "    print(\"Rows (total):\", len(df))\n",
    "    print(\"train:\", len(train_df), \"| spam_ratio=\", f\"{ratio(train_df):.4f}\")\n",
    "    print(\"val  :\", len(val_df),   \"| spam_ratio=\", f\"{ratio(val_df):.4f}\")\n",
    "    print(\"test :\", len(test_df),  \"| spam_ratio=\", f\"{ratio(test_df):.4f}\")\n",
    "    print(f\"Wrote splits to: {splits_dir}\")\n",
    "\n",
    "\n",
    "if __name__ == \"__main__\":\n",
    "    main()\n"
   ]
  }
 ],
 "metadata": {
  "kernelspec": {
   "display_name": ".venv",
   "language": "python",
   "name": "python3"
  },
  "language_info": {
   "codemirror_mode": {
    "name": "ipython",
    "version": 3
   },
   "file_extension": ".py",
   "mimetype": "text/x-python",
   "name": "python",
   "nbconvert_exporter": "python",
   "pygments_lexer": "ipython3",
   "version": "3.11.8"
  }
 },
 "nbformat": 4,
 "nbformat_minor": 5
}
